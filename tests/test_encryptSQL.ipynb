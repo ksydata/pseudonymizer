{
 "cells": [
  {
   "cell_type": "markdown",
   "metadata": {},
   "source": [
    "# 암호화 대비 SQL 데이터 출력 클래스 제작\n",
    "\n",
    "## 구현 방식\n",
    "SQL 접속용 클래스 PreprocessQuery를 상속한 SelectData, JoinData 클래스 구현"
   ]
  },
  {
   "cell_type": "code",
   "execution_count": 2,
   "metadata": {},
   "outputs": [],
   "source": [
    "import pymysql\n",
    "from sqlalchemy import create_engine\n",
    "from abc import ABC, abstractmethod\n",
    "from typing import *\n",
    "import re\n",
    "\n",
    "from prettytable import PrettyTable\n",
    "import pandas as pd\n",
    "\n",
    "import matplotlib.pyplot as plt\n",
    "import seaborn as sns"
   ]
  },
  {
   "cell_type": "markdown",
   "metadata": {},
   "source": [
    "### 기존 PreprocessQuery 클래스"
   ]
  },
  {
   "cell_type": "code",
   "execution_count": 2,
   "metadata": {},
   "outputs": [],
   "source": [
    "class PreprocessQuery:\n",
    "    \"\"\"데이터 전처리 목적의 SQL 쿼리 클래스\"\"\"\n",
    "    def __init__(self, pw):\n",
    "        self._pw = pw\n",
    "        self.connection = None\n",
    "        self.Cursor = None\n",
    "        self.SQL = None\n",
    "    \n",
    "    def connectMySQL(self, \n",
    "                     serverIP: str, port_num: int, user_name: str, database_name: str, kr_encoder: str):\n",
    "        \"\"\"MySQL DBMS 데이터베이스에 접속: 서버IP주소, 사용자명, 계정 암호, 데이터베이스명, 한글 인코딩 방식\"\"\"\n",
    "        try:\n",
    "            self.connection = pymysql.connect(\n",
    "                host = serverIP, port = port_num,\n",
    "                user = user_name, password = self._pw,\n",
    "                db = database_name, charset = kr_encoder\n",
    "            )\n",
    "            self.Cursor = self.makeCursor(self.connection)\n",
    "        except pymysql.Error as e:\n",
    "            print(f\"Error Connecting to MySQL from Python: {e}\")\n",
    "    \n",
    "    def makeCursor(self, connect):\n",
    "        \"\"\"커서 생성\"\"\"\n",
    "        return connect.cursor()\n",
    "    \n",
    "    def dataQueryLanguage(self, sql):\n",
    "        \"\"\"SQL 쿼리문 작성\"\"\"\n",
    "        self.SQL = f\"{sql}\"\n",
    "    \n",
    "    def queryExecute(self):\n",
    "        \"\"\"SQL 쿼리문 실행 및 예외처리\"\"\"\n",
    "        try:\n",
    "            self.Cursor.execute(self.SQL)\n",
    "            actionOutput = self.Cursor.fetchall()\n",
    "            return actionOutput\n",
    "        except pymysql.Error as e:\n",
    "            print(f\"Error Executing Query: {e}\")\n",
    "    \n",
    "    def queryCommit(self):\n",
    "        \"\"\"실행 결과 확정\"\"\"\n",
    "        self.Cursor.execute(self.SQL)\n",
    "        self.Cursor.commit()\n",
    "    \n",
    "    def closeConnection(self):\n",
    "        \"\"\"연결 및 커서 닫기\"\"\"\n",
    "        if self.Cursor:\n",
    "            self.Cursor.close()\n",
    "        if self.connection:\n",
    "            self.connection.close()"
   ]
  },
  {
   "cell_type": "markdown",
   "metadata": {},
   "source": [
    "### SelectData 클래스"
   ]
  },
  {
   "cell_type": "code",
   "execution_count": 3,
   "metadata": {},
   "outputs": [],
   "source": [
    "class SelectData(PreprocessQuery):\n",
    "    def __init__(self, serverIP: str, port_num: int, user_name: str, database_name: str, kr_encoder: str, pw: str):\n",
    "        self.connection = None\n",
    "        self.Cursor = None\n",
    "        self.SQL = None\n",
    "        self._serverIP = serverIP\n",
    "        self._port_num = port_num\n",
    "        self._user_name = user_name\n",
    "        self._database_name = database_name\n",
    "        self._kr_encoder = kr_encoder\n",
    "        self._pw = pw\n",
    "    \n",
    "    def selectTable(self, table: str):\n",
    "        self.connectMySQL(self._serverIP, self._port_num, self._user_name, self._database_name, self._kr_encoder)\n",
    "        self.dataQueryLanguage(f\"SELECT * FROM {table}\")\n",
    "        results = self.queryExecute()\n",
    "        return results\n",
    "    \n",
    "    def printTable(self, data):\n",
    "        \"\"\"테이블 출력 결과에 PrettyTable 적용하는 함수\"\"\"\n",
    "        if data:\n",
    "            columns = [ [desc[0] for desc in self.Cursor.description] ]\n",
    "            table = PrettyTable(*columns)\n",
    "    \n",
    "            for row in data:\n",
    "                row_list = list(row)\n",
    "                table.add_row(row_list)\n",
    "            return table\n",
    "        return False\n",
    "    \n",
    "    def concatColumns(self, columns: tuple, table: str):\n",
    "        \"\"\"SELECT CONCAT(column1, column2, column3) FROM TABLE 구현 함수\"\"\"\n",
    "        pass"
   ]
  },
  {
   "cell_type": "code",
   "execution_count": 6,
   "metadata": {},
   "outputs": [
    {
     "name": "stdout",
     "output_type": "stream",
     "text": [
      "((1, '고대옥', datetime.date(1966, 4, 1), 'female', '고대옥@gmail.com', '010-5978-9544', 'N', '전라북도 익산시 서동로 464(용제동)', datetime.date(2021, 7, 20)), (2, '사미소', datetime.date(1991, 1, 12), 'female', '사미소@outlook.com', '010-3920-5092', 'N', '제주특별자치도 제주시 조천읍 신촌남8길 87', datetime.date(2020, 6, 6)), (3, '서회걸', datetime.date(1950, 9, 20), 'male', '서회걸@naver.com', '010-7209-1680', 'Y', '경상북도 영천시 신녕면 찰방길 28', datetime.date(2022, 2, 17)), (4, '장예홍', datetime.date(2002, 11, 22), 'male', '장예홍@naver.com', '010-3093-9161', 'Y', '경기도 성남시 수정구 시민로 172(신흥동)', datetime.date(2021, 11, 4)), (5, '표재창', datetime.date(1983, 8, 21), 'male', '표재창@nate.com', '010-2443-6530', 'Y', '경상남도 의령군 지정면 기강로2길 5', datetime.date(2020, 8, 20)), (6, '주동지', datetime.date(1981, 9, 11), 'female', '주동지@naver.com', '010-4437-3442', 'Y', '경기도 이천시 장호원읍 서동대로8369번길 166-13', datetime.date(2020, 11, 13)), (7, '방선두', datetime.date(1954, 3, 22), 'male', '방선두@naver.com', '010-8876-2788', 'Y', '강원특별자치도 태백시 피내골길 11(철암동)', datetime.date(2022, 3, 20)), (8, '송민석', datetime.date(1956, 2, 23), 'male', '송민석@daum.net', '010-6455-7721', 'Y', '대구광역시 동구 동북로 415-3(신암동)', datetime.date(2020, 6, 25)), (9, '우기모', datetime.date(1997, 12, 30), 'female', '우기모@nate.com', '010-2763-0443', 'Y', '충청북도 옥천군 안내면 용촌차정로 174-10', datetime.date(2020, 12, 30)), (10, '황보년', datetime.date(1958, 10, 19), 'male', '황보년@daum.net', '010-7686-0661', 'N', '경상북도 김천시 충효8길 2(성내동)', datetime.date(2021, 6, 9)))\n"
     ]
    }
   ],
   "source": [
    "d = SelectData(serverIP = \"localhost\", port_num = 3306, user_name = \"root\", database_name = \"FINANCIALCONSUMER\", kr_encoder = \"utf8\", pw =\"1234\")\n",
    "ds = d.selectTable(table = \"DATA_JOIN_ACCOMODATIONAPP\")\n",
    "print(ds[0:10])"
   ]
  },
  {
   "cell_type": "markdown",
   "metadata": {},
   "source": [
    "### concatColumns 구현 방안 : SQLAlchemy ORM Session 활용\n",
    "- 목적 : ```SELECT CONCAT(NUM_SERIAL, NAME, BIRTH_DATE) FROM DATA_JOIN_ACCOMODATIONAPP``` 과 같은 형태의 구문 구현\n",
    "- 현재 DataQueryLanguage 활용으로는 ```SELECT CONCAT('NUM_SERIAL', 'NAME', 'BIRTH_DATE') FROM DATA_JOIN_ACCOMODATIONAPP``` 형태가 구현됨.\n",
    "- 대안으로 SQLAlchemy ORM Session 기능을 활용하여 컬럼 단위로 데이터를 선택하는 코드 제안\n",
    "- 해당 Session 기능 활용 위해서는 PreprocessQuery의 connection 기능을 SQLAlchemy 기반으로 수정 보완해야 함\n",
    "    - 참고 : https://soogoonsoogoonpythonists.github.io/sqlalchemy-for-pythonist/tutorial/5.1.%20Core%EC%99%80%20ORM%20%EB%B0%A9%EC%8B%9D%EC%9C%BC%EB%A1%9C%20%ED%96%89%20%EC%A1%B0%ED%9A%8C%ED%95%98%EA%B8%B0.html#select-%E1%84%85%E1%85%B3%E1%86%AF-%E1%84%90%E1%85%A9%E1%86%BC%E1%84%92%E1%85%A1%E1%86%AB-sql-%E1%84%91%E1%85%AD%E1%84%92%E1%85%A7%E1%86%AB%E1%84%89%E1%85%B5%E1%86%A8-%E1%84%80%E1%85%AE%E1%84%89%E1%85%A5%E1%86%BC"
   ]
  },
  {
   "cell_type": "code",
   "execution_count": 3,
   "metadata": {},
   "outputs": [],
   "source": [
    "from sqlalchemy import create_engine\n",
    "import pymysql\n",
    "from sqlalchemy.orm import Session\n",
    "from urllib.parse import quote\n",
    "from sqlalchemy import select, func\n",
    "from sqlalchemy.dialects import mysql"
   ]
  },
  {
   "cell_type": "code",
   "execution_count": 4,
   "metadata": {},
   "outputs": [],
   "source": [
    "user = \"root\"\n",
    "pwd = \"1234\"\n",
    "host = \"localhost\"\n",
    "port = 3306\n",
    "db = \"FINANCIALCONSUMER\"\n",
    "\n",
    "db_url = f'mysql+pymysql://{user}:{quote(pwd)}@{host}:{port}/{db}'\n",
    "engine = create_engine(db_url, echo=True)"
   ]
  },
  {
   "cell_type": "markdown",
   "metadata": {},
   "source": [
    "session 활용 리턴값 row의 경우, tuple과 데이터 형태가 유사하지만 ```row.NUM_SERIAL``` 과 같은 형식으로 데이터를 컬럼별로 뽑아낼 수 있음\n",
    "    - 기존 PreprocessQuery는 데이터 리턴값이 tuple 타입으로, 데이터 컬럼별 분류가 어려움"
   ]
  },
  {
   "cell_type": "code",
   "execution_count": 5,
   "metadata": {},
   "outputs": [
    {
     "name": "stdout",
     "output_type": "stream",
     "text": [
      "2024-02-02 10:14:17,008 INFO sqlalchemy.engine.Engine SELECT DATABASE()\n",
      "2024-02-02 10:14:17,008 INFO sqlalchemy.engine.Engine [raw sql] {}\n",
      "2024-02-02 10:14:17,011 INFO sqlalchemy.engine.Engine SELECT @@sql_mode\n",
      "2024-02-02 10:14:17,011 INFO sqlalchemy.engine.Engine [raw sql] {}\n",
      "2024-02-02 10:14:17,013 INFO sqlalchemy.engine.Engine SELECT @@lower_case_table_names\n",
      "2024-02-02 10:14:17,013 INFO sqlalchemy.engine.Engine [raw sql] {}\n",
      "2024-02-02 10:14:17,014 INFO sqlalchemy.engine.Engine BEGIN (implicit)\n",
      "2024-02-02 10:14:17,015 INFO sqlalchemy.engine.Engine SELECT * FROM DATA_JOIN_CARDPAYMENT limit 0, 10\n",
      "2024-02-02 10:14:17,015 INFO sqlalchemy.engine.Engine [generated in 0.00042s] {}\n",
      "1국회옥1996-08-30\n",
      "2윤창성1993-08-27\n",
      "3신류안1968-02-28\n",
      "4류백겸2000-06-17\n",
      "6강이비1952-08-17\n",
      "7남복조1960-12-25\n",
      "10탁한음1950-06-05\n",
      "11윤태흠1993-12-01\n",
      "12지채문1960-03-30\n",
      "13레건영1991-07-10\n",
      "2024-02-02 10:14:17,016 INFO sqlalchemy.engine.Engine ROLLBACK\n"
     ]
    }
   ],
   "source": [
    "with Session(engine) as session:\n",
    "    for row in session.execute(\"SELECT * FROM DATA_JOIN_CARDPAYMENT limit 0, 10\"):\n",
    "        print(str(row.NUM_SERIAL) + str(row.NAME) + str(row.BIRTH_DATE))"
   ]
  },
  {
   "cell_type": "code",
   "execution_count": 6,
   "metadata": {},
   "outputs": [
    {
     "name": "stdout",
     "output_type": "stream",
     "text": [
      "2024-02-02 10:14:18,635 INFO sqlalchemy.engine.Engine BEGIN (implicit)\n",
      "2024-02-02 10:14:18,636 INFO sqlalchemy.engine.Engine SELECT * FROM DATA_JOIN_CARDPAYMENT limit 0, 10\n",
      "2024-02-02 10:14:18,637 INFO sqlalchemy.engine.Engine [cached since 1.622s ago] {}\n",
      "2024-02-02 10:14:18,642 INFO sqlalchemy.engine.Engine ROLLBACK\n"
     ]
    }
   ],
   "source": [
    "results = []\n",
    "\n",
    "with Session(engine) as session:\n",
    "    for row in session.execute(\"SELECT * FROM DATA_JOIN_CARDPAYMENT limit 0, 10\"):\n",
    "        results.append(str(row.NUM_SERIAL) + str(row.NAME) + str(row.BIRTH_DATE))"
   ]
  },
  {
   "cell_type": "code",
   "execution_count": 7,
   "metadata": {},
   "outputs": [
    {
     "data": {
      "text/plain": [
       "['1국회옥1996-08-30',\n",
       " '2윤창성1993-08-27',\n",
       " '3신류안1968-02-28',\n",
       " '4류백겸2000-06-17',\n",
       " '6강이비1952-08-17',\n",
       " '7남복조1960-12-25',\n",
       " '10탁한음1950-06-05',\n",
       " '11윤태흠1993-12-01',\n",
       " '12지채문1960-03-30',\n",
       " '13레건영1991-07-10']"
      ]
     },
     "execution_count": 7,
     "metadata": {},
     "output_type": "execute_result"
    }
   ],
   "source": [
    "results"
   ]
  },
  {
   "cell_type": "code",
   "execution_count": 8,
   "metadata": {},
   "outputs": [
    {
     "data": {
      "text/plain": [
       "'1국회옥1996-08-30'"
      ]
     },
     "execution_count": 8,
     "metadata": {},
     "output_type": "execute_result"
    }
   ],
   "source": [
    "results[0]  # 해당 형태의 데이터를 기반으로 암호화 클래스 제작 돌입"
   ]
  },
  {
   "cell_type": "markdown",
   "metadata": {},
   "source": [
    "# 암호화 클래스 제작"
   ]
  },
  {
   "cell_type": "code",
   "execution_count": 7,
   "metadata": {},
   "outputs": [],
   "source": [
    "import os\n",
    "from hashlib import blake2b\n",
    "from hashlib import sha256"
   ]
  },
  {
   "cell_type": "code",
   "execution_count": 14,
   "metadata": {},
   "outputs": [],
   "source": [
    "class EncryptData:\n",
    "    \"\"\"데이터 전처리 및 합치기 클래스에서 출력된 데이터를 해싱하는 클래스\"\"\"\n",
    "    def __init__(self, data):\n",
    "        self._data = data\n",
    "        \n",
    "    def addSalt(self, data):\n",
    "        \"\"\"BLAKE2B 알고리즘으로 데이터에 Salt값을 붙이는 함수\"\"\"\n",
    "        results = []\n",
    "        \n",
    "        for i in range(len(data)):\n",
    "            d = data[i].encode('utf-8')\n",
    "            salt = os.urandom(blake2b.SALT_SIZE)\n",
    "            h = blake2b(salt = salt)\n",
    "            updateData = h.update(d)\n",
    "            results.append(updateData)\n",
    "            \n",
    "        return results\n",
    "        \n",
    "    def makeHash(self, data):\n",
    "        \"\"\"데이터 합치기, Salt값 더하기 작업 완료된 데이터를 SHA256 알고리즘으로 해싱하는 함수\"\"\"\n",
    "        results = []\n",
    "        \n",
    "        for i in range(len(data)):\n",
    "            d = data[i].encode('utf-8')\n",
    "            result = sha256(d)\n",
    "            results.append(result)\n",
    "            \n",
    "        return results\n",
    "    \n",
    "    def printResult(self, data):\n",
    "        \"\"\"해싱 완료된 민감정보 데이터를 같은 인덱스의 다른 데이터와 합쳐서 프린트하는 함수\"\"\"\n",
    "        pass"
   ]
  },
  {
   "cell_type": "code",
   "execution_count": 9,
   "metadata": {},
   "outputs": [],
   "source": [
    "d2 = \"1, '고대옥', datetime.date(1966, 4, 1), 'female', '고대옥@gmail.com', '010-5978-9544', 'N', '전라북도 익산시 서동로 464(용제동)', datetime.date(2021, 7, 20)\""
   ]
  },
  {
   "cell_type": "code",
   "execution_count": 13,
   "metadata": {},
   "outputs": [],
   "source": [
    "d3 = EncryptData(d2)"
   ]
  },
  {
   "cell_type": "code",
   "execution_count": null,
   "metadata": {},
   "outputs": [],
   "source": []
  }
 ],
 "metadata": {
  "kernelspec": {
   "display_name": "base",
   "language": "python",
   "name": "python3"
  },
  "language_info": {
   "codemirror_mode": {
    "name": "ipython",
    "version": 3
   },
   "file_extension": ".py",
   "mimetype": "text/x-python",
   "name": "python",
   "nbconvert_exporter": "python",
   "pygments_lexer": "ipython3",
   "version": "3.11.4"
  }
 },
 "nbformat": 4,
 "nbformat_minor": 2
}
